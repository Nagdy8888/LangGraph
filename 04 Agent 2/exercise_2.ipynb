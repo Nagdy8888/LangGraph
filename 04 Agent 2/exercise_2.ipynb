{
 "cells": [
  {
   "cell_type": "code",
   "execution_count": 36,
   "id": "cdf33325",
   "metadata": {},
   "outputs": [],
   "source": [
    "from typing import TypedDict, List\n",
    "from langgraph.graph import StateGraph, START, END"
   ]
  },
  {
   "cell_type": "code",
   "execution_count": 37,
   "id": "e06fe0eb",
   "metadata": {},
   "outputs": [],
   "source": [
    "class AgentState(TypedDict):\n",
    "    name: str\n",
    "    values: List[int]\n",
    "    operation: str\n",
    "    result: str"
   ]
  },
  {
   "cell_type": "code",
   "execution_count": 38,
   "id": "10252635",
   "metadata": {},
   "outputs": [],
   "source": [
    "def process_operations(state: AgentState) -> AgentState:\n",
    "    \"\"\"this function handels multible different inputs\"\"\"\n",
    "    print(state)\n",
    "\n",
    "    if state['operation'] == '+':\n",
    "        state[\"result\"] = f\"hi {state['name']}, your answer is: {sum(state['values'])}\"\n",
    "    elif state['operation'] == '*':\n",
    "        product = 1\n",
    "        for value in state['values']:\n",
    "            product *= value\n",
    "        state[\"result\"] = f\"hi {state['name']}, your answer is: {product}\"\n",
    "    print(state)\n",
    "    return state"
   ]
  },
  {
   "cell_type": "code",
   "execution_count": 39,
   "id": "063d98eb",
   "metadata": {},
   "outputs": [],
   "source": [
    "graph = StateGraph(AgentState)\n",
    "graph.add_node(\"process_operations\", process_operations)\n",
    "graph.set_entry_point(\"process_operations\")\n",
    "graph.add_edge(START, \"process_operations\")\n",
    "graph.set_finish_point(\"process_operations\")\n",
    "app = graph.compile()"
   ]
  },
  {
   "cell_type": "code",
   "execution_count": 40,
   "id": "c281bab9",
   "metadata": {},
   "outputs": [
    {
     "data": {
      "image/png": "[encoded data removed]",
      "text/plain": [
       "<IPython.core.display.Image object>"
      ]
     },
     "metadata": {},
     "output_type": "display_data"
    }
   ],
   "source": [
    "from IPython.display import Image, display\n",
    "display(Image(app.get_graph().draw_mermaid_png()))"
   ]
  },
  {
   "cell_type": "code",
   "execution_count": 43,
   "id": "ab0286bd",
   "metadata": {},
   "outputs": [
    {
     "name": "stdout",
     "output_type": "stream",
     "text": [
      "{'name': 'bob', 'values': [1, 2, 3, 4, 5], 'operation': '-'}\n",
      "{'name': 'bob', 'values': [1, 2, 3, 4, 5], 'operation': '-'}\n"
     ]
    }
   ],
   "source": [
    "results = app.invoke({\"name\": \"bob\", \"values\": [1, 2, 3, 4, 5], \"operation\": \"-\"})"
   ]
  },
  {
   "cell_type": "code",
   "execution_count": null,
   "id": "e667ca76",
   "metadata": {},
   "outputs": [],
   "source": []
  }
 ],
 "metadata": {
  "kernelspec": {
   "display_name": "Python 3",
   "language": "python",
   "name": "python3"
  },
  "language_info": {
   "codemirror_mode": {
    "name": "ipython",
    "version": 3
   },
   "file_extension": ".py",
   "mimetype": "text/x-python",
   "name": "python",
   "nbconvert_exporter": "python",
   "pygments_lexer": "ipython3",
   "version": "3.12.0"
  }
 },
 "nbformat": 4,
 "nbformat_minor": 5
}
