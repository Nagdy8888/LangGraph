{
 "cells": [
  {
   "cell_type": "code",
   "execution_count": 1,
   "id": "6492c85d",
   "metadata": {},
   "outputs": [],
   "source": [
    "from typing import TypedDict\n",
    "from langgraph.graph import StateGraph, START, END\n"
   ]
  },
  {
   "cell_type": "code",
   "execution_count": 2,
   "id": "cc82fd9f",
   "metadata": {},
   "outputs": [],
   "source": [
    "class AgentState(TypedDict):\n",
    "    name: str\n",
    "    age: str\n",
    "    skills: list[str]\n",
    "    final: str"
   ]
  },
  {
   "cell_type": "code",
   "execution_count": 3,
   "id": "4e13f9a9",
   "metadata": {},
   "outputs": [],
   "source": [
    "def first_node(state: AgentState) -> AgentState:\n",
    "    \"\"\"this is the first node of the graph\"\"\"\n",
    "    state['final'] = f\"hi {state['name']}!\"\n",
    "    return state\n",
    "\n",
    "def second_node(state: AgentState) -> AgentState:\n",
    "    \"\"\"this is the second node of the graph\"\"\"\n",
    "    state['final'] = state['final'] + f\" You are {state['age']} years old!\"\n",
    "    return state\n",
    "\n",
    "def third_node(state: AgentState) -> AgentState:\n",
    "    \"\"\"this is the third node of the graph\"\"\"\n",
    "    state['final'] = state['final'] + f\" Your skills are: {', '.join(state['skills'])}\"\n",
    "    return state"
   ]
  },
  {
   "cell_type": "code",
   "execution_count": 7,
   "id": "a98da1ec",
   "metadata": {},
   "outputs": [],
   "source": [
    "graph = StateGraph(AgentState)\n",
    "graph.add_node(\"first_node\", first_node)\n",
    "graph.add_node(\"second_node\", second_node)\n",
    "graph.add_node(\"third_node\", third_node)\n",
    "graph.set_entry_point(\"first_node\")\n",
    "graph.add_edge(\"first_node\", \"second_node\")\n",
    "graph.add_edge(\"second_node\", \"third_node\")\n",
    "graph.set_finish_point(\"third_node\")\n",
    "app = graph.compile()"
   ]
  },
  {
   "cell_type": "code",
   "execution_count": 8,
   "id": "a56b4fac",
   "metadata": {},
   "outputs": [
    {
     "data": {
      "image/png": "[encoded data removed]",
      "text/plain": [
       "<IPython.core.display.Image object>"
      ]
     },
     "metadata": {},
     "output_type": "display_data"
    }
   ],
   "source": [
    "from IPython.display import Image, display\n",
    "display(Image(app.get_graph().draw_mermaid_png()))"
   ]
  },
  {
   "cell_type": "code",
   "execution_count": 9,
   "id": "833ecb3f",
   "metadata": {},
   "outputs": [
    {
     "name": "stdout",
     "output_type": "stream",
     "text": [
      "hi bob! You are 25 years old! Your skills are: python, sql, llm\n"
     ]
    }
   ],
   "source": [
    "results = app.invoke({\"name\": \"bob\", \"age\": \"25\", \"skills\": [\"python\", \"sql\", \"llm\"]})\n",
    "print(results['final'])"
   ]
  },
  {
   "cell_type": "code",
   "execution_count": null,
   "id": "64ce7550",
   "metadata": {},
   "outputs": [],
   "source": []
  }
 ],
 "metadata": {
  "kernelspec": {
   "display_name": "Python 3",
   "language": "python",
   "name": "python3"
  },
  "language_info": {
   "codemirror_mode": {
    "name": "ipython",
    "version": 3
   },
   "file_extension": ".py",
   "mimetype": "text/x-python",
   "name": "python",
   "nbconvert_exporter": "python",
   "pygments_lexer": "ipython3",
   "version": "3.12.0"
  }
 },
 "nbformat": 4,
 "nbformat_minor": 5
}
