{
 "cells": [
  {
   "cell_type": "markdown",
   "id": "8386d8cb",
   "metadata": {},
   "source": [
    "# TypedDict: Type-Safe Dictionaries in Python\n",
    "\n",
    "A `TypedDict` is a special type annotation that allows you to define the structure of a dictionary with specific key-value types. It provides type safety and better IDE support when working with dictionaries.\n",
    "\n",
    "## Key Features:\n",
    "- **Type Safety**: Ensures dictionary keys and values match the specified types\n",
    "- **IDE Support**: Better autocomplete and type checking in your editor\n",
    "- **Runtime Validation**: Can be used with type checkers like mypy\n",
    "- **Dictionary-like**: Behaves like a regular Python dictionary at runtime\n",
    "\n",
    "## Benefits:\n",
    "- Prevents typos in dictionary keys\n",
    "- Catches type mismatches early\n",
    "- Improves code documentation and readability\n",
    "- Enables better refactoring support\n"
   ]
  },
  {
   "cell_type": "code",
   "execution_count": 1,
   "id": "580cd1ca",
   "metadata": {},
   "outputs": [],
   "source": [
    "from typing import TypedDict\n",
    "\n",
    "class Movie(TypedDict):\n",
    "    name: str\n",
    "    year: int\n",
    "\n",
    "movie = Movie(name=\"The Matrix\", year=1999)"
   ]
  },
  {
   "cell_type": "code",
   "execution_count": null,
   "id": "55e5af1a",
   "metadata": {},
   "outputs": [],
   "source": []
  }
 ],
 "metadata": {
  "kernelspec": {
   "display_name": "Python 3",
   "language": "python",
   "name": "python3"
  },
  "language_info": {
   "name": "python",
   "version": "3.12.0"
  }
 },
 "nbformat": 4,
 "nbformat_minor": 5
}
