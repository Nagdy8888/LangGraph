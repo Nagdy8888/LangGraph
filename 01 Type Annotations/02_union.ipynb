{
 "cells": [
  {
   "cell_type": "markdown",
   "id": "9ae86e2c",
   "metadata": {},
   "source": [
    "# Union Types: Multiple Type Options\n",
    "\n",
    "A `Union` type allows a variable or parameter to accept multiple different types. It's useful when a function or variable can work with several different data types.\n",
    "\n",
    "## Key Features:\n",
    "- **Multiple Types**: Accepts any of the specified types\n",
    "- **Type Safety**: Ensures the value is one of the allowed types\n",
    "- **Flexibility**: Allows functions to work with different input types\n",
    "- **IDE Support**: Provides better autocomplete and type checking\n",
    "\n",
    "## Common Use Cases:\n",
    "- Functions that can accept both integers and floats\n",
    "- Variables that might be a string or None\n",
    "- Parameters that can be different types of objects\n",
    "- API responses that might return different data structures\n",
    "\n",
    "## Syntax:\n",
    "- `Union[Type1, Type2]` - accepts Type1 OR Type2\n",
    "- `Union[int, float]` - accepts integer OR float\n",
    "- `Union[str, None]` - accepts string OR None (can also use `Optional[str]`)\n"
   ]
  },
  {
   "cell_type": "code",
   "execution_count": 1,
   "id": "46d205d1",
   "metadata": {},
   "outputs": [
    {
     "name": "stdout",
     "output_type": "stream",
     "text": [
      "100\n"
     ]
    }
   ],
   "source": [
    "from typing import Union\n",
    "\n",
    "def square(x: Union[int, float]) ->  float:\n",
    "    return x * x\n",
    "\n",
    "print(square(10))"
   ]
  },
  {
   "cell_type": "code",
   "execution_count": null,
   "id": "c35e569a",
   "metadata": {},
   "outputs": [],
   "source": []
  }
 ],
 "metadata": {
  "kernelspec": {
   "display_name": "Python 3",
   "language": "python",
   "name": "python3"
  },
  "language_info": {
   "codemirror_mode": {
    "name": "ipython",
    "version": 3
   },
   "file_extension": ".py",
   "mimetype": "text/x-python",
   "name": "python",
   "nbconvert_exporter": "python",
   "pygments_lexer": "ipython3",
   "version": "3.12.0"
  }
 },
 "nbformat": 4,
 "nbformat_minor": 5
}
