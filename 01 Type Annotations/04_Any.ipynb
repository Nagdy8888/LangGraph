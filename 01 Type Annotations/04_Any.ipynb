{
 "cells": [
  {
   "cell_type": "markdown",
   "id": "d7efb68b",
   "metadata": {},
   "source": [
    "# Any Type: The Ultimate Flexibility\n",
    "\n",
    "The `Any` type is a special type annotation that represents any type. It essentially disables type checking for that variable or parameter, allowing it to accept any value without type restrictions.\n",
    "\n",
    "## Key Features:\n",
    "- **No Type Restrictions**: Accepts any type of value\n",
    "- **Disables Type Checking**: Bypasses static type analysis\n",
    "- **Maximum Flexibility**: Can hold strings, numbers, objects, functions, etc.\n",
    "- **Runtime Behavior**: Works like untyped Python at runtime\n",
    "\n",
    "## When to Use:\n",
    "- **Legacy Code**: When migrating untyped code to typed code\n",
    "- **Dynamic Content**: When dealing with truly dynamic data\n",
    "- **Third-party Libraries**: When working with untyped external libraries\n",
    "- **Prototyping**: During early development phases\n",
    "\n",
    "## When NOT to Use:\n",
    "- **Avoid if possible**: `Any` defeats the purpose of type annotations\n",
    "- **Prefer specific types**: Use `Union`, `Optional`, or specific types when possible\n",
    "- **Type safety**: `Any` removes all type safety benefits\n",
    "- **IDE support**: Loses autocomplete and type checking features\n",
    "\n",
    "## Best Practices:\n",
    "- Use `Any` as a last resort\n",
    "- Gradually replace `Any` with more specific types\n",
    "- Document why `Any` is necessary\n",
    "- Consider `object` as an alternative for better type safety\n"
   ]
  },
  {
   "cell_type": "code",
   "execution_count": 1,
   "id": "aded6979",
   "metadata": {},
   "outputs": [
    {
     "name": "stdout",
     "output_type": "stream",
     "text": [
      "10\n"
     ]
    }
   ],
   "source": [
    "from typing import Any\n",
    "\n",
    "def print_values(x: Any):\n",
    "    print(x)\n",
    "\n",
    "print_values(10)"
   ]
  },
  {
   "cell_type": "code",
   "execution_count": null,
   "id": "41c6cd64",
   "metadata": {},
   "outputs": [],
   "source": []
  }
 ],
 "metadata": {
  "kernelspec": {
   "display_name": "Python 3",
   "language": "python",
   "name": "python3"
  },
  "language_info": {
   "codemirror_mode": {
    "name": "ipython",
    "version": 3
   },
   "file_extension": ".py",
   "mimetype": "text/x-python",
   "name": "python",
   "nbconvert_exporter": "python",
   "pygments_lexer": "ipython3",
   "version": "3.12.0"
  }
 },
 "nbformat": 4,
 "nbformat_minor": 5
}
