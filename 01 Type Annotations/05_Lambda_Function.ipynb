{
 "cells": [
  {
   "cell_type": "markdown",
   "id": "98494dd5",
   "metadata": {},
   "source": [
    "# Lambda Functions: Anonymous Functions in Python\n",
    "\n",
    "Lambda functions are small, anonymous functions that can be defined inline. They are perfect for simple operations that don't require a full function definition.\n",
    "\n",
    "## Key Features:\n",
    "- **Anonymous**: No function name required\n",
    "- **Inline**: Can be defined and used in the same line\n",
    "- **Concise**: Ideal for simple, one-expression operations\n",
    "- **Functional**: Often used with `map()`, `filter()`, and `reduce()`\n",
    "\n",
    "## Syntax:\n",
    "```python\n",
    "lambda arguments: expression\n",
    "```\n",
    "\n",
    "## Common Use Cases:\n",
    "- **Map operations**: Transform each element in a list\n",
    "- **Filter operations**: Select elements based on conditions\n",
    "- **Sorting**: Define custom sort keys\n",
    "- **Event handlers**: Simple callback functions\n",
    "\n",
    "## Benefits:\n",
    "- **Readability**: Makes code more concise for simple operations\n",
    "- **Functional programming**: Enables functional programming patterns\n",
    "- **No namespace pollution**: Avoids creating named functions for one-time use\n",
    "- **Inline logic**: Keeps logic close to where it's used\n",
    "\n",
    "## When to Use:\n",
    "- Simple one-line operations\n",
    "- Functions used only once\n",
    "- As arguments to higher-order functions\n",
    "- When readability is improved by keeping logic inline\n",
    "\n",
    "## When NOT to Use:\n",
    "- Complex logic (use regular functions instead)\n",
    "- Multi-line operations\n",
    "- When the function needs to be reused\n",
    "- When it reduces code readability\n"
   ]
  },
  {
   "cell_type": "code",
   "execution_count": 1,
   "id": "2ba9f158",
   "metadata": {},
   "outputs": [
    {
     "name": "stdout",
     "output_type": "stream",
     "text": [
      "100\n"
     ]
    }
   ],
   "source": [
    "square = lambda x: x*x\n",
    "\n",
    "print(square(10))"
   ]
  },
  {
   "cell_type": "code",
   "execution_count": 2,
   "id": "cf11be37",
   "metadata": {},
   "outputs": [
    {
     "name": "stdout",
     "output_type": "stream",
     "text": [
      "[1, 4, 9, 16, 25]\n"
     ]
    }
   ],
   "source": [
    "nums = [1, 2, 3, 4, 5]\n",
    "squared_nums = list(map(lambda x: x*x, nums))\n",
    "print(squared_nums)"
   ]
  },
  {
   "cell_type": "code",
   "execution_count": null,
   "id": "f0f4f62a",
   "metadata": {},
   "outputs": [],
   "source": []
  }
 ],
 "metadata": {
  "kernelspec": {
   "display_name": "Python 3",
   "language": "python",
   "name": "python3"
  },
  "language_info": {
   "codemirror_mode": {
    "name": "ipython",
    "version": 3
   },
   "file_extension": ".py",
   "mimetype": "text/x-python",
   "name": "python",
   "nbconvert_exporter": "python",
   "pygments_lexer": "ipython3",
   "version": "3.12.0"
  }
 },
 "nbformat": 4,
 "nbformat_minor": 5
}
