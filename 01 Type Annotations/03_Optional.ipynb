{
 "cells": [
  {
   "cell_type": "markdown",
   "id": "68d0fced",
   "metadata": {},
   "source": [
    "# Optional Types: Handling None Values\n",
    "\n",
    "An `Optional` type is a special case of `Union` that allows a variable to be either a specific type or `None`. It's perfect for handling cases where a value might not be provided or might be missing.\n",
    "\n",
    "## Key Features:\n",
    "- **None Handling**: Explicitly allows `None` as a valid value\n",
    "- **Type Safety**: Ensures the value is either the specified type or `None`\n",
    "- **Clear Intent**: Makes it obvious that a parameter might be missing\n",
    "- **IDE Support**: Better autocomplete and type checking\n",
    "\n",
    "## Common Use Cases:\n",
    "- Function parameters that might not be provided\n",
    "- Database fields that can be empty\n",
    "- API responses that might not include certain fields\n",
    "- Configuration values that are optional\n",
    "\n",
    "## Syntax:\n",
    "- `Optional[Type]` is equivalent to `Union[Type, None]`\n",
    "- `Optional[str]` means the value can be a string OR None\n",
    "- `Optional[int]` means the value can be an integer OR None\n",
    "\n",
    "## Benefits:\n",
    "- Makes code more explicit about None handling\n",
    "- Prevents `AttributeError` when accessing methods on None\n",
    "- Improves code documentation and readability\n",
    "- Enables better error handling patterns\n"
   ]
  },
  {
   "cell_type": "code",
   "execution_count": 1,
   "id": "72f3b3a0",
   "metadata": {},
   "outputs": [
    {
     "name": "stdout",
     "output_type": "stream",
     "text": [
      "Hello, Alice!\n",
      "Hello, random person!\n"
     ]
    }
   ],
   "source": [
    "from typing import Optional\n",
    "\n",
    "def nice_message(name: Optional[str]) -> None:\n",
    "    if name is None:\n",
    "        print(\"Hello, random person!\")\n",
    "\n",
    "    else:\n",
    "        print(f\"Hello, {name}!\")\n",
    "\n",
    "nice_message(\"Alice\")\n",
    "nice_message(None)"
   ]
  },
  {
   "cell_type": "code",
   "execution_count": null,
   "id": "d986398a",
   "metadata": {},
   "outputs": [],
   "source": []
  }
 ],
 "metadata": {
  "kernelspec": {
   "display_name": "Python 3",
   "language": "python",
   "name": "python3"
  },
  "language_info": {
   "codemirror_mode": {
    "name": "ipython",
    "version": 3
   },
   "file_extension": ".py",
   "mimetype": "text/x-python",
   "name": "python",
   "nbconvert_exporter": "python",
   "pygments_lexer": "ipython3",
   "version": "3.12.0"
  }
 },
 "nbformat": 4,
 "nbformat_minor": 5
}
