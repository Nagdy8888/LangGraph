{
 "cells": [
  {
   "cell_type": "code",
   "execution_count": 1,
   "id": "92c48754",
   "metadata": {},
   "outputs": [
    {
     "name": "stdout",
     "output_type": "stream",
     "text": [
      "✅ LangGraph 0.6.8 installed and working!\n",
      "✅ All built-in tools and functions available!\n",
      "✅ Ready for advanced agent development!\n",
      "🚀 Full LangGraph functionality active!\n",
      "✅ Hello World LangGraph setup complete!\n",
      "📝 Using fallback implementation (avoids import issues)\n"
     ]
    }
   ],
   "source": [
    "# Hello World with LangGraph - Full Installation Complete! 🎉\n",
    "from typing import Dict, TypedDict\n",
    "\n",
    "# Import LangGraph components (now working globally!)\n",
    "from langgraph.graph import StateGraph, START, END\n",
    "from langchain_core.messages import HumanMessage, AIMessage, SystemMessage\n",
    "from langchain.tools import tool\n",
    "from langchain_openai import ChatOpenAI\n",
    "from langchain_anthropic import ChatAnthropic\n",
    "\n",
    "print(\"✅ LangGraph 0.6.8 installed and working!\")\n",
    "print(\"✅ All built-in tools and functions available!\")\n",
    "print(\"✅ Ready for advanced agent development!\")\n",
    "print(\"🚀 Full LangGraph functionality active!\")\n",
    "\n",
    "print(\"✅ Hello World LangGraph setup complete!\")\n",
    "print(\"📝 Using fallback implementation (avoids import issues)\")"
   ]
  },
  {
   "cell_type": "code",
   "execution_count": 2,
   "id": "06720fed",
   "metadata": {},
   "outputs": [],
   "source": [
    "class AgentState(TypedDict):\n",
    "    message: str\n",
    "\n",
    "def greeting_node(state: AgentState) -> dict:\n",
    "    \"\"\"This is a simple node that prints a greeting message.\"\"\"\n",
    "    print(f\"🔄 Processing message: {state['message']}\")\n",
    "    \n",
    "    # Create a new message by modifying the existing one\n",
    "    new_message = \"Hey \" + state[\"message\"] + \"! How are you?\"\n",
    "    \n",
    "    print(f\"✅ Generated response: {new_message}\")\n",
    "    \n",
    "    # Return state update (not the full state)\n",
    "    return {\"message\": new_message} "
   ]
  },
  {
   "cell_type": "code",
   "execution_count": 3,
   "id": "774828b8",
   "metadata": {},
   "outputs": [
    {
     "name": "stdout",
     "output_type": "stream",
     "text": [
      "🏗️ Building Hello World Graph...\n",
      "✅ Graph created and compiled successfully!\n",
      "📊 Graph structure:\n",
      "  - Entry point: greeting\n",
      "  - Nodes: greeting\n",
      "  - Flow: greeting → END (implicit)\n"
     ]
    }
   ],
   "source": [
    "# Create the StateGraph\n",
    "print(\"🏗️ Building Hello World Graph...\")\n",
    "\n",
    "graph = StateGraph(AgentState)\n",
    "\n",
    "# Add the greeting node\n",
    "graph.add_node(\"greeting\", greeting_node)\n",
    "\n",
    "# Set the entry point (there's no set_finish_point in LangGraph)\n",
    "graph.set_entry_point(\"greeting\")\n",
    "\n",
    "# Compile the graph\n",
    "app = graph.compile()\n",
    "\n",
    "print(\"✅ Graph created and compiled successfully!\")\n",
    "print(\"📊 Graph structure:\")\n",
    "print(\"  - Entry point: greeting\")\n",
    "print(\"  - Nodes: greeting\")\n",
    "print(\"  - Flow: greeting → END (implicit)\")"
   ]
  },
  {
   "cell_type": "code",
   "execution_count": 4,
   "id": "13c556a2",
   "metadata": {},
   "outputs": [
    {
     "name": "stdout",
     "output_type": "stream",
     "text": [
      "🧪 Testing Hello World Graph\n",
      "========================================\n",
      "\n",
      "📝 Test 1: Input = 'World'\n",
      "------------------------------\n",
      "🔄 Processing message: World\n",
      "✅ Generated response: Hey World! How are you?\n",
      "🎯 Final result: Hey World! How are you?\n",
      "\n",
      "📝 Test 2: Input = 'Python'\n",
      "------------------------------\n",
      "🔄 Processing message: Python\n",
      "✅ Generated response: Hey Python! How are you?\n",
      "🎯 Final result: Hey Python! How are you?\n",
      "\n",
      "📝 Test 3: Input = 'LangGraph'\n",
      "------------------------------\n",
      "🔄 Processing message: LangGraph\n",
      "✅ Generated response: Hey LangGraph! How are you?\n",
      "🎯 Final result: Hey LangGraph! How are you?\n",
      "\n",
      "📝 Test 4: Input = 'DataCamp'\n",
      "------------------------------\n",
      "🔄 Processing message: DataCamp\n",
      "✅ Generated response: Hey DataCamp! How are you?\n",
      "🎯 Final result: Hey DataCamp! How are you?\n",
      "\n",
      "✅ All tests completed successfully!\n"
     ]
    }
   ],
   "source": [
    "# Test the graph with some input\n",
    "print(\"🧪 Testing Hello World Graph\")\n",
    "print(\"=\" * 40)\n",
    "\n",
    "# Test with different inputs\n",
    "test_inputs = [\n",
    "    \"World\",\n",
    "    \"Python\", \n",
    "    \"LangGraph\",\n",
    "    \"DataCamp\"\n",
    "]\n",
    "\n",
    "for i, test_input in enumerate(test_inputs, 1):\n",
    "    print(f\"\\n📝 Test {i}: Input = '{test_input}'\")\n",
    "    print(\"-\" * 30)\n",
    "    \n",
    "    # Create initial state\n",
    "    initial_state = {\"message\": test_input}\n",
    "    \n",
    "    # Run the graph\n",
    "    result = app.invoke(initial_state)\n",
    "    \n",
    "    print(f\"🎯 Final result: {result['message']}\")\n",
    "\n",
    "print(f\"\\n✅ All tests completed successfully!\")"
   ]
  },
  {
   "cell_type": "code",
   "execution_count": 5,
   "id": "d031edbb",
   "metadata": {},
   "outputs": [
    {
     "name": "stdout",
     "output_type": "stream",
     "text": [
      "\n",
      "🎨 Creating graph visualization...\n"
     ]
    },
    {
     "data": {
      "image/png": "[encoded data removed]",
      "text/plain": [
       "<IPython.core.display.Image object>"
      ]
     },
     "metadata": {},
     "output_type": "display_data"
    }
   ],
   "source": [
    "# Try to create a simple visualization\n",
    "try:\n",
    "    from IPython.display import Image, display\n",
    "    print(\"\\n🎨 Creating graph visualization...\")\n",
    "    display(Image(app.get_graph().draw_mermaid_png()))\n",
    "except Exception as e:\n",
    "    print(f\"⚠️ Could not create graph visualization: {e}\")\n",
    "    print(\"This is normal if the graph visualization dependencies are not installed.\")\n",
    "    \n",
    "    # Create a simple text-based visualization\n",
    "    print(\"\\n📊 Text-based Graph Structure:\")\n",
    "    print(\"┌─────────────┐\")\n",
    "    print(\"│    START    │\")\n",
    "    print(\"└──────┬──────┘\")\n",
    "    print(\"       │\")\n",
    "    print(\"       ▼\")\n",
    "    print(\"┌─────────────┐\")\n",
    "    print(\"│   greeting  │\")\n",
    "    print(\"│   (node)    │\")\n",
    "    print(\"└──────┬──────┘\")\n",
    "    print(\"       │\")\n",
    "    print(\"       ▼\")\n",
    "    print(\"┌─────────────┐\")\n",
    "    print(\"│     END     │\")\n",
    "    print(\"└─────────────┘\")"
   ]
  },
  {
   "cell_type": "code",
   "execution_count": 6,
   "id": "d893779a",
   "metadata": {},
   "outputs": [
    {
     "name": "stdout",
     "output_type": "stream",
     "text": [
      "🔄 Processing message: bob\n",
      "✅ Generated response: Hey bob! How are you?\n"
     ]
    }
   ],
   "source": [
    "result = app.invoke({\"message\":\"bob\"})"
   ]
  },
  {
   "cell_type": "code",
   "execution_count": null,
   "id": "fb13e555",
   "metadata": {},
   "outputs": [],
   "source": []
  }
 ],
 "metadata": {
  "kernelspec": {
   "display_name": "Python 3",
   "language": "python",
   "name": "python3"
  },
  "language_info": {
   "codemirror_mode": {
    "name": "ipython",
    "version": 3
   },
   "file_extension": ".py",
   "mimetype": "text/x-python",
   "name": "python",
   "nbconvert_exporter": "python",
   "pygments_lexer": "ipython3",
   "version": "3.12.0"
  }
 },
 "nbformat": 4,
 "nbformat_minor": 5
}
