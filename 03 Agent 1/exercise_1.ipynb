{
 "cells": [
  {
   "cell_type": "code",
   "execution_count": 9,
   "id": "0fb95122",
   "metadata": {},
   "outputs": [
    {
     "name": "stdout",
     "output_type": "stream",
     "text": [
      "✅ LangGraph 0.6.8 installed and working!\n",
      "✅ All built-in tools and functions available!\n",
      "✅ Ready for advanced agent development!\n",
      "🚀 Full LangGraph functionality active!\n",
      "✅ Hello World LangGraph setup complete!\n",
      "📝 Using fallback implementation (avoids import issues)\n"
     ]
    }
   ],
   "source": [
    "# Hello World with LangGraph - Full Installation Complete! 🎉\n",
    "from typing import Dict, TypedDict\n",
    "\n",
    "# Import LangGraph components (now working globally!)\n",
    "from langgraph.graph import StateGraph, START, END\n",
    "from langchain_core.messages import HumanMessage, AIMessage, SystemMessage\n",
    "from langchain.tools import tool\n",
    "from langchain_openai import ChatOpenAI\n",
    "from langchain_anthropic import ChatAnthropic\n",
    "\n",
    "print(\"✅ LangGraph 0.6.8 installed and working!\")\n",
    "print(\"✅ All built-in tools and functions available!\")\n",
    "print(\"✅ Ready for advanced agent development!\")\n",
    "print(\"🚀 Full LangGraph functionality active!\")\n",
    "\n",
    "print(\"✅ Hello World LangGraph setup complete!\")\n",
    "print(\"📝 Using fallback implementation (avoids import issues)\")"
   ]
  },
  {
   "cell_type": "code",
   "execution_count": 10,
   "id": "92808aec",
   "metadata": {},
   "outputs": [],
   "source": [
    "class AgentState(TypedDict):\n",
    "    name: str\n",
    "    message: str\n",
    "\n",
    "def compliment_node(state: AgentState) -> dict:\n",
    "    \"\"\"This is a simple node that prints a compliment.\"\"\"\n",
    "    print(f\"🔄 Processing name: {state['name']}\")\n",
    "    \n",
    "    # Create a compliment message\n",
    "    compliment = \"Hey \" + state[\"name\"] + \"! You are a great person!\"\n",
    "    \n",
    "    print(f\"✅ Generated compliment: {compliment}\")\n",
    "    \n",
    "    # Return state update (not the full state)\n",
    "    return {\"message\": compliment} "
   ]
  },
  {
   "cell_type": "code",
   "execution_count": 11,
   "id": "33036d28",
   "metadata": {},
   "outputs": [
    {
     "name": "stdout",
     "output_type": "stream",
     "text": [
      "🏗️ Building the compliment graph...\n",
      "✅ Graph created and compiled successfully!\n",
      "📊 Graph structure:\n",
      "  - Entry point: greeting\n",
      "  - Nodes: greeting\n",
      "  - Flow: greeting → END (implicit)\n"
     ]
    }
   ],
   "source": [
    "# Create the StateGraph\n",
    "print(\"🏗️ Building the compliment graph...\")\n",
    "\n",
    "graph = StateGraph(AgentState)\n",
    "\n",
    "# Add the compliment node\n",
    "graph.add_node(\"compliment\", compliment_node)\n",
    "\n",
    "# Set the entry point (there's no set_finish_point in LangGraph)\n",
    "graph.set_entry_point(\"compliment\")\n",
    "\n",
    "# Compile the graph\n",
    "app = graph.compile()\n",
    "\n",
    "print(\"✅ Graph created and compiled successfully!\")\n",
    "print(\"📊 Graph structure:\")\n",
    "print(\"  - Entry point: greeting\")\n",
    "print(\"  - Nodes: greeting\")\n",
    "print(\"  - Flow: greeting → END (implicit)\")"
   ]
  },
  {
   "cell_type": "code",
   "execution_count": 12,
   "id": "541465c1",
   "metadata": {},
   "outputs": [
    {
     "name": "stdout",
     "output_type": "stream",
     "text": [
      "🧪 Testing the compliment graph\n",
      "========================================\n",
      "\n",
      "📝 Test 1: Input = 'World'\n",
      "------------------------------\n",
      "🔄 Processing name: World\n",
      "✅ Generated compliment: Hey World! You are a great person!\n",
      "🎯 Final result: Hey World! You are a great person!\n",
      "\n",
      "📝 Test 2: Input = 'Python'\n",
      "------------------------------\n",
      "🔄 Processing name: Python\n",
      "✅ Generated compliment: Hey Python! You are a great person!\n",
      "🎯 Final result: Hey Python! You are a great person!\n",
      "\n",
      "📝 Test 3: Input = 'LangGraph'\n",
      "------------------------------\n",
      "🔄 Processing name: LangGraph\n",
      "✅ Generated compliment: Hey LangGraph! You are a great person!\n",
      "🎯 Final result: Hey LangGraph! You are a great person!\n",
      "\n",
      "📝 Test 4: Input = 'DataCamp'\n",
      "------------------------------\n",
      "🔄 Processing name: DataCamp\n",
      "✅ Generated compliment: Hey DataCamp! You are a great person!\n",
      "🎯 Final result: Hey DataCamp! You are a great person!\n",
      "\n",
      "✅ All tests completed successfully!\n"
     ]
    }
   ],
   "source": [
    "# Test the graph with some input\n",
    "print(\"🧪 Testing the compliment graph\")\n",
    "print(\"=\" * 40)\n",
    "\n",
    "# Test with different inputs\n",
    "test_inputs = [\n",
    "    \"World\",\n",
    "    \"Python\", \n",
    "    \"LangGraph\",\n",
    "    \"DataCamp\"\n",
    "]\n",
    "\n",
    "for i, test_input in enumerate(test_inputs, 1):\n",
    "    print(f\"\\n📝 Test {i}: Input = '{test_input}'\")\n",
    "    print(\"-\" * 30)\n",
    "    \n",
    "    # Create initial state with both name and message\n",
    "    initial_state = {\"name\": test_input, \"message\": \"\"}\n",
    "    \n",
    "    # Run the graph\n",
    "    result = app.invoke(initial_state)\n",
    "    \n",
    "    print(f\"🎯 Final result: {result['message']}\")\n",
    "\n",
    "print(f\"\\n✅ All tests completed successfully!\")"
   ]
  },
  {
   "cell_type": "code",
   "execution_count": 15,
   "id": "cfcf2fe0",
   "metadata": {},
   "outputs": [
    {
     "name": "stdout",
     "output_type": "stream",
     "text": [
      "\n",
      "🎨 Creating graph visualization...\n"
     ]
    },
    {
     "data": {
      "image/png": "[encoded data removed]",
      "text/plain": [
       "<IPython.core.display.Image object>"
      ]
     },
     "metadata": {},
     "output_type": "display_data"
    }
   ],
   "source": [
    "from IPython.display import Image, display\n",
    "print(\"\\n🎨 Creating graph visualization...\")\n",
    "display(Image(app.get_graph().draw_mermaid_png()))"
   ]
  },
  {
   "cell_type": "code",
   "execution_count": 16,
   "id": "78bc5077",
   "metadata": {},
   "outputs": [
    {
     "name": "stdout",
     "output_type": "stream",
     "text": [
      "🔄 Processing name: bob\n",
      "✅ Generated compliment: Hey bob! You are a great person!\n"
     ]
    }
   ],
   "source": [
    "result = app.invoke({\"name\":\"bob\"})"
   ]
  }
 ],
 "metadata": {
  "kernelspec": {
   "display_name": "Python 3",
   "language": "python",
   "name": "python3"
  },
  "language_info": {
   "codemirror_mode": {
    "name": "ipython",
    "version": 3
   },
   "file_extension": ".py",
   "mimetype": "text/x-python",
   "name": "python",
   "nbconvert_exporter": "python",
   "pygments_lexer": "ipython3",
   "version": "3.12.0"
  }
 },
 "nbformat": 4,
 "nbformat_minor": 5
}
