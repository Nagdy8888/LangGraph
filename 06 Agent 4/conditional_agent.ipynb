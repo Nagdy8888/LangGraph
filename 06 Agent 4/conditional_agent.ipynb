{
 "cells": [
  {
   "cell_type": "code",
   "execution_count": 1,
   "id": "8d424b72",
   "metadata": {},
   "outputs": [],
   "source": [
    "from typing import TypedDict\n",
    "from langgraph.graph import StateGraph, START, END"
   ]
  },
  {
   "cell_type": "code",
   "execution_count": 2,
   "id": "258541b6",
   "metadata": {},
   "outputs": [],
   "source": [
    "class AgentState(TypedDict):\n",
    "    num1:int\n",
    "    num2:int\n",
    "    operation:str\n",
    "    finalNumber:int\n",
    "    "
   ]
  },
  {
   "cell_type": "code",
   "execution_count": 3,
   "id": "a3c2ed39",
   "metadata": {},
   "outputs": [],
   "source": [
    "def adder(state: AgentState) -> AgentState:\n",
    "    \"\"\"this nodes adds two numbers\"\"\"\n",
    "    state['finalNumber'] = state['num1'] + state['num2']\n",
    "    return state\n",
    "\n",
    "\n",
    "def subtractor(state: AgentState) -> AgentState:\n",
    "    \"\"\"this nodes subtracts two numbers\"\"\"\n",
    "    state['finalNumber'] = state['num1'] - state['num2']\n",
    "    return state\n",
    "\n",
    "\n",
    "def decide_next_node(state: AgentState) -> AgentState:\n",
    "    \"\"\"this node decides which node to go to next\"\"\"\n",
    "    if state['operation'] == '+':\n",
    "        return \"addition_operation\"\n",
    "\n",
    "    elif state['operation'] == '-':\n",
    "        return \"subtraction_operation\""
   ]
  },
  {
   "cell_type": "code",
   "execution_count": 7,
   "id": "7e5e48f3",
   "metadata": {},
   "outputs": [],
   "source": [
    "graph = StateGraph(AgentState)\n",
    "graph.add_node(\"add_node\", adder)\n",
    "graph.add_node(\"sub_node\", subtractor)\n",
    "graph.add_node(\"router\", lambda state: state)\n",
    "graph.add_edge(START, \"router\")\n",
    "graph.add_conditional_edges(\n",
    "    \"router\",\n",
    "    decide_next_node,\n",
    "    {\n",
    "        \"addition_operation\": \"add_node\",\n",
    "        \"subtraction_operation\": \"sub_node\",\n",
    "    }\n",
    ")\n",
    "graph.add_edge(\"add_node\", END)\n",
    "graph.add_edge(\"sub_node\", END)\n",
    "app = graph.compile()"
   ]
  },
  {
   "cell_type": "code",
   "execution_count": 5,
   "id": "1041c611",
   "metadata": {},
   "outputs": [
    {
     "data": {
      "image/png": "[encoded data removed]",
      "text/plain": [
       "<IPython.core.display.Image object>"
      ]
     },
     "metadata": {},
     "output_type": "display_data"
    }
   ],
   "source": [
    "from IPython.display import Image, display\n",
    "display(Image(app.get_graph().draw_mermaid_png()))"
   ]
  },
  {
   "cell_type": "code",
   "execution_count": 9,
   "id": "1b14d179",
   "metadata": {},
   "outputs": [
    {
     "name": "stdout",
     "output_type": "stream",
     "text": [
      "50010\n"
     ]
    }
   ],
   "source": [
    "initial_state = {\"num1\": 10, \"num2\": 50000, \"operation\": \"+\"}\n",
    "result = app.invoke(initial_state)\n",
    "print(result['finalNumber'])"
   ]
  },
  {
   "cell_type": "code",
   "execution_count": null,
   "id": "a0594a97",
   "metadata": {},
   "outputs": [],
   "source": []
  }
 ],
 "metadata": {
  "kernelspec": {
   "display_name": "Python 3",
   "language": "python",
   "name": "python3"
  },
  "language_info": {
   "codemirror_mode": {
    "name": "ipython",
    "version": 3
   },
   "file_extension": ".py",
   "mimetype": "text/x-python",
   "name": "python",
   "nbconvert_exporter": "python",
   "pygments_lexer": "ipython3",
   "version": "3.12.0"
  }
 },
 "nbformat": 4,
 "nbformat_minor": 5
}
